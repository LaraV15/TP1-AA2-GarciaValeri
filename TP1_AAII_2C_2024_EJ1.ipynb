{
  "cells": [
    {
      "cell_type": "markdown",
      "metadata": {
        "colab_type": "text",
        "id": "view-in-github"
      },
      "source": [
        "<a href=\"https://colab.research.google.com/github/LaraV15/TP1-AA2-GarciaValeri/blob/main/TP1_AAII_2C_2024_EJ1.ipynb\" target=\"_parent\"><img src=\"https://colab.research.google.com/assets/colab-badge.svg\" alt=\"Open In Colab\"/></a>"
      ]
    },
    {
      "cell_type": "markdown",
      "metadata": {
        "id": "QDW8pXmE5T8I"
      },
      "source": [
        "En este problema, se presenta un conjunto de datos que contiene información sobre el rendimiento académico de estudiantes universitarios, así como diversos factores que podrían influir en él. El objetivo es construir un modelo de regresión utilizando redes neuronales para predecir el índice de rendimiento académico de los estudiantes basado en las características proporcionadas."
      ]
    },
    {
      "cell_type": "markdown",
      "metadata": {
        "id": "rh-YqNXwAqgS"
      },
      "source": [
        "## Preparación del entorno"
      ]
    },
    {
      "cell_type": "code",
      "execution_count": 1,
      "metadata": {
        "colab": {
          "base_uri": "https://localhost:8080/"
        },
        "id": "qvrJyLCxAtog",
        "outputId": "ad06826d-26df-4d91-dcd3-68127c9ce7b0"
      },
      "outputs": [
        {
          "name": "stdout",
          "output_type": "stream",
          "text": [
            "Cloning into 'TP1-AA2'...\n",
            "remote: Enumerating objects: 24317, done.\u001b[K\n",
            "remote: Counting objects: 100% (9/9), done.\u001b[K\n",
            "remote: Compressing objects: 100% (7/7), done.\u001b[K\n",
            "remote: Total 24317 (delta 1), reused 8 (delta 0), pack-reused 24308 (from 1)\u001b[K\n",
            "Receiving objects: 100% (24317/24317), 342.27 MiB | 13.11 MiB/s, done.\n",
            "Resolving deltas: 100% (1/1), done.\n",
            "Updating files: 100% (24338/24338), done.\n"
          ]
        }
      ],
      "source": [
        "import os\n",
        "\n",
        "REPO_NAME = \"TP1-AA2-GarciaValeri\"\n",
        "if REPO_NAME not in os.getcwd():\n",
        "  if not os.path.exists(REPO_NAME):\n",
        "    !git clone https://github.com/LaraV15/TP1-AA2-GarciaValeri.git\n",
        "  os.chdir(REPO_NAME)"
      ]
    },
    {
      "cell_type": "markdown",
      "metadata": {
        "id": "SPT0sAqN71LE"
      },
      "source": [
        "### Importamos las librerías"
      ]
    },
    {
      "cell_type": "code",
      "execution_count": null,
      "metadata": {
        "id": "H_jgRcKh5tLn"
      },
      "outputs": [],
      "source": [
        "import numpy as np\n",
        "import matplotlib.pyplot as plt\n",
        "import pandas as pd\n",
        "import tensorflow as tf\n",
        "from tensorflow.keras.models import Sequential\n",
        "from tensorflow.keras.layers import Dense, Input\n",
        "from sklearn.model_selection import train_test_split\n",
        "from tensorflow.keras.optimizers import Adam"
      ]
    },
    {
      "cell_type": "code",
      "execution_count": null,
      "metadata": {
        "id": "QdGPV5Gw6UX-"
      },
      "outputs": [],
      "source": [
        "# Configurar para que TensorFlow utilice la GPU por defecto\n",
        "gpus = tf.config.experimental.list_physical_devices('GPU')\n",
        "if gpus:\n",
        "    try:\n",
        "        # Configurar para que TensorFlow asigne memoria dinámicamente\n",
        "        for gpu in gpus:\n",
        "            tf.config.experimental.set_memory_growth(gpu, True)\n",
        "        # Especificar la GPU por defecto\n",
        "        logical_gpus = tf.config.experimental.list_logical_devices('GPU')\n",
        "        print(len(gpus), \"Physical GPUs,\", len(logical_gpus), \"Logical GPUs\")\n",
        "    except RuntimeError as e:\n",
        "        # Manejar error\n",
        "        print(e)"
      ]
    },
    {
      "cell_type": "markdown",
      "metadata": {
        "id": "C9b2iWc38Aw8"
      },
      "source": [
        "## Análisis exploratorio"
      ]
    },
    {
      "cell_type": "code",
      "execution_count": null,
      "metadata": {
        "colab": {
          "base_uri": "https://localhost:8080/"
        },
        "id": "LbnouFFz4buA",
        "outputId": "15e16bd0-dc63-4285-e516-924cde65f71d"
      },
      "outputs": [
        {
          "name": "stdout",
          "output_type": "stream",
          "text": [
            "   Hours Studied  Previous Scores Extracurricular Activities  Sleep Hours  \\\n",
            "0              7               99                        Yes            9   \n",
            "1              4               82                         No            4   \n",
            "2              8               51                        Yes            7   \n",
            "3              5               52                        Yes            5   \n",
            "4              7               75                         No            8   \n",
            "\n",
            "   Sample Question Papers Practiced  Performance Index  \n",
            "0                                 1               91.0  \n",
            "1                                 2               65.0  \n",
            "2                                 2               45.0  \n",
            "3                                 2               36.0  \n",
            "4                                 5               66.0  \n"
          ]
        }
      ],
      "source": [
        "# Cargamos el dataset\n",
        "data = pd.read_csv('Student_Performance.csv')\n",
        "print(data.head())"
      ]
    },
    {
      "cell_type": "code",
      "execution_count": null,
      "metadata": {
        "colab": {
          "base_uri": "https://localhost:8080/"
        },
        "id": "ZT2A0h8E8Y-6",
        "outputId": "9980bab3-31e3-4967-d86a-ea75ea546ad4"
      },
      "outputs": [
        {
          "name": "stdout",
          "output_type": "stream",
          "text": [
            "      Hours Studied  Previous Scores Extracurricular Activities  Sleep Hours  \\\n",
            "9254              5               49                         No            7   \n",
            "1561              2               48                        Yes            7   \n",
            "1670              2               81                         No            7   \n",
            "6087              2               46                         No            6   \n",
            "6669              8               47                         No            9   \n",
            "\n",
            "      Sample Question Papers Practiced  Performance Index  \n",
            "9254                                 5               36.0  \n",
            "1561                                 6               25.0  \n",
            "1670                                 2               59.0  \n",
            "6087                                 1               22.0  \n",
            "6669                                 0               40.0  \n"
          ]
        }
      ],
      "source": [
        "# Dividir los datos en conjuntos de entrenamiento y prueba\n",
        "train_df, test_df = train_test_split(data, test_size=0.2, random_state=42)\n",
        "\n",
        "print(train_df.head())"
      ]
    },
    {
      "cell_type": "code",
      "execution_count": null,
      "metadata": {
        "colab": {
          "base_uri": "https://localhost:8080/"
        },
        "id": "LlnuTcrb9ClP",
        "outputId": "e4c4ef30-6ae7-4eb2-f53e-9b58842775d4"
      },
      "outputs": [
        {
          "name": "stdout",
          "output_type": "stream",
          "text": [
            "--------------------\n",
            "Columna:  Hours Studied\n",
            "Cantidad de valores nulos:  0\n",
            "Cantidad de valores únicos:  9\n",
            "Tipo de dato:  int64\n",
            "Valores únicos:  [5 2 8 3 9 4 6 1 7]\n",
            "Cantidad de veces que aparece cada valor:  Hours Studied\n",
            "1    937\n",
            "6    917\n",
            "9    894\n",
            "3    891\n",
            "7    889\n",
            "2    871\n",
            "8    869\n",
            "4    869\n",
            "5    863\n",
            "Name: count, dtype: int64\n",
            "--------------------\n",
            "--------------------\n",
            "Columna:  Previous Scores\n",
            "Cantidad de valores nulos:  0\n",
            "Cantidad de valores únicos:  60\n",
            "Tipo de dato:  int64\n",
            "Media:  69.531\n",
            "Desvío estándar:  17.343734881577706\n",
            "Mínimo:  40\n",
            "Máximo:  99\n",
            "--------------------\n",
            "--------------------\n",
            "Columna:  Extracurricular Activities\n",
            "Cantidad de valores nulos:  0\n",
            "Cantidad de valores únicos:  2\n",
            "Tipo de dato:  object\n",
            "--------------------\n",
            "--------------------\n",
            "Columna:  Sleep Hours\n",
            "Cantidad de valores nulos:  0\n",
            "Cantidad de valores únicos:  6\n",
            "Tipo de dato:  int64\n",
            "Valores únicos:  [7 6 9 4 5 8]\n",
            "Cantidad de veces que aparece cada valor:  Sleep Hours\n",
            "8    1437\n",
            "6    1341\n",
            "9    1327\n",
            "7    1326\n",
            "5    1290\n",
            "4    1279\n",
            "Name: count, dtype: int64\n",
            "--------------------\n",
            "--------------------\n",
            "Columna:  Sample Question Papers Practiced\n",
            "Cantidad de valores nulos:  0\n",
            "Cantidad de valores únicos:  10\n",
            "Tipo de dato:  int64\n",
            "Media:  4.6165\n",
            "Desvío estándar:  2.861241179564553\n",
            "Mínimo:  0\n",
            "Máximo:  9\n",
            "--------------------\n",
            "--------------------\n",
            "Columna:  Performance Index\n",
            "Cantidad de valores nulos:  0\n",
            "Cantidad de valores únicos:  91\n",
            "Tipo de dato:  float64\n",
            "Media:  55.3115\n",
            "Desvío estándar:  19.202058682136247\n",
            "Mínimo:  10.0\n",
            "Máximo:  100.0\n",
            "--------------------\n"
          ]
        }
      ],
      "source": [
        "cols = train_df.columns\n",
        "\n",
        "for col in cols:\n",
        "    print(\"--------------------\")\n",
        "    print(\"Columna: \", col)\n",
        "    print(\"Cantidad de valores nulos: \", train_df[col].isnull().sum())\n",
        "    print(\"Cantidad de valores únicos: \", train_df[col].nunique())\n",
        "    print(\"Tipo de dato: \", train_df[col].dtype)\n",
        "    # Si no es numérica, continuar con la siguiente columna\n",
        "    if train_df[col].dtype == \"object\":\n",
        "        print(\"--------------------\")\n",
        "        continue\n",
        "    # Si es una columna categórica, mostrar la cantidad de veces que aparece cada valor\n",
        "    if train_df[col].nunique() < 10:\n",
        "        print(\"Valores únicos: \", train_df[col].unique())\n",
        "        print(\"Cantidad de veces que aparece cada valor: \", train_df[col].value_counts())\n",
        "    else:\n",
        "        # Si es una columna numérica, mostramos media, desvío estándar, mínimo, máximo...\n",
        "        print(\"Media: \", train_df[col].mean())\n",
        "        print(\"Desvío estándar: \", train_df[col].std())\n",
        "        print(\"Mínimo: \", train_df[col].min())\n",
        "        print(\"Máximo: \", train_df[col].max())\n",
        "    print(\"--------------------\")"
      ]
    },
    {
      "cell_type": "code",
      "execution_count": null,
      "metadata": {
        "colab": {
          "base_uri": "https://localhost:8080/"
        },
        "id": "4iUKDfow9UWQ",
        "outputId": "2d73bb29-9dfd-4c23-8415-ee9197e57261"
      },
      "outputs": [
        {
          "name": "stdout",
          "output_type": "stream",
          "text": [
            "      Hours Studied  Previous Scores  Extracurricular Activities_No  \\\n",
            "9254       0.006455        -1.183770                            1.0   \n",
            "1561      -1.149676        -1.241428                            0.0   \n",
            "1670      -1.149676         0.661276                            1.0   \n",
            "6087      -1.149676        -1.356744                            1.0   \n",
            "6669       1.162586        -1.299086                            1.0   \n",
            "\n",
            "      Extracurricular Activities_Yes  Sleep Hours  \\\n",
            "9254                             0.0     0.269872   \n",
            "1561                             1.0     0.269872   \n",
            "1670                             0.0     0.269872   \n",
            "6087                             0.0    -0.318886   \n",
            "6669                             0.0     1.447386   \n",
            "\n",
            "      Sample Question Papers Practiced  Performance Index  \n",
            "9254                          0.134033               36.0  \n",
            "1561                          0.483531               25.0  \n",
            "1670                         -0.914463               59.0  \n",
            "6087                         -1.263962               22.0  \n",
            "6669                         -1.613461               40.0  \n",
            "(8000, 6) (8000,)\n"
          ]
        }
      ],
      "source": [
        "# Defino un diccionario para definir el tipo de dato de cada columna\n",
        "\n",
        "column_types = {\n",
        "    \"Hours Studied\": \"numeric\",\n",
        "    \"Previous Scores\": \"numeric\",\n",
        "    \"Extracurricular Activities\": \"categoric\",\n",
        "    \"Sleep Hours\": \"numeric\",\n",
        "    \"Sample Question Papers Practiced\": \"numeric\",\n",
        "}\n",
        "\n",
        "# Diccionario para almacenar media y desvío estándar de las columnas numéricas.\n",
        "# Me va a servir para realizar predicciones en el futuro.\n",
        "numeric_stats = {}\n",
        "\n",
        "# Diccionario para almacenar los valores únicos de las columnas categóricas.\n",
        "# Me va a servir para realizar predicciones en el futuro.\n",
        "categoric_values = {}\n",
        "\n",
        "preprocessed_train_df = pd.DataFrame()\n",
        "preprocessed_test_df = pd.DataFrame()\n",
        "\n",
        "# Preprocesamiento del set de entrenamiento\n",
        "for col in column_types.keys():\n",
        "    if column_types[col] == \"categoric\":\n",
        "        num_classes = train_df[col].nunique()\n",
        "        # Obtengo el one-hot encoding de la columna\n",
        "        one_hot = pd.get_dummies(train_df[col], prefix=col, dtype=np.float32)\n",
        "        # Agrego las columnas al dataset preprocesado\n",
        "        preprocessed_train_df = pd.concat([preprocessed_train_df, one_hot], axis=1)\n",
        "        # Almaceno los valores únicos\n",
        "        categoric_values[col] = train_df[col].unique()\n",
        "    else:\n",
        "        # Normalizo la columna\n",
        "        preprocessed_train_df[col] = (train_df[col] - train_df[col].mean()) / train_df[col].std()\n",
        "        # Almaceno media y desvío estándar\n",
        "        numeric_stats[col] = {\n",
        "            \"mean\": train_df[col].mean(),\n",
        "            \"std\": train_df[col].std()\n",
        "        }\n",
        "\n",
        "# Agrergo la columna \"Performance Index\" al dataset preprocesado\n",
        "preprocessed_train_df[\"Performance Index\"] = train_df[\"Performance Index\"]\n",
        "\n",
        "# Muestro las primeras filas del dataset preprocesado\n",
        "print(preprocessed_train_df.head())\n",
        "\n",
        "# Drop nan values\n",
        "preprocessed_train_df = preprocessed_train_df.dropna()\n",
        "\n",
        "# Defino los vectores X_train, y_train, X_test e y_test\n",
        "X_train = preprocessed_train_df.drop(\"Performance Index\", axis=1).values.astype(np.float32)\n",
        "y_train = preprocessed_train_df[\"Performance Index\"].values.astype(np.float32)\n",
        "\n",
        "print(X_train.shape, y_train.shape)\n"
      ]
    },
    {
      "cell_type": "markdown",
      "metadata": {},
      "source": [
        "# Entrenamiento del modelo"
      ]
    },
    {
      "cell_type": "markdown",
      "metadata": {
        "id": "evZiDrwaEvyg"
      },
      "source": [
        "Definimos un primer modelo y lo entrenamos"
      ]
    },
    {
      "cell_type": "code",
      "execution_count": null,
      "metadata": {
        "colab": {
          "base_uri": "https://localhost:8080/",
          "height": 1000
        },
        "id": "GDGV_lpU-duK",
        "outputId": "a3115f79-0c26-4e7f-b85f-68553ee17600"
      },
      "outputs": [
        {
          "data": {
            "text/html": [
              "<pre style=\"white-space:pre;overflow-x:auto;line-height:normal;font-family:Menlo,'DejaVu Sans Mono',consolas,'Courier New',monospace\"><span style=\"font-weight: bold\">Model: \"sequential_4\"</span>\n",
              "</pre>\n"
            ],
            "text/plain": [
              "\u001b[1mModel: \"sequential_4\"\u001b[0m\n"
            ]
          },
          "metadata": {},
          "output_type": "display_data"
        },
        {
          "data": {
            "text/html": [
              "<pre style=\"white-space:pre;overflow-x:auto;line-height:normal;font-family:Menlo,'DejaVu Sans Mono',consolas,'Courier New',monospace\">┏━━━━━━━━━━━━━━━━━━━━━━━━━━━━━━━━━━━━━━┳━━━━━━━━━━━━━━━━━━━━━━━━━━━━━┳━━━━━━━━━━━━━━━━━┓\n",
              "┃<span style=\"font-weight: bold\"> Layer (type)                         </span>┃<span style=\"font-weight: bold\"> Output Shape                </span>┃<span style=\"font-weight: bold\">         Param # </span>┃\n",
              "┡━━━━━━━━━━━━━━━━━━━━━━━━━━━━━━━━━━━━━━╇━━━━━━━━━━━━━━━━━━━━━━━━━━━━━╇━━━━━━━━━━━━━━━━━┩\n",
              "│ dense_15 (<span style=\"color: #0087ff; text-decoration-color: #0087ff\">Dense</span>)                     │ (<span style=\"color: #00d7ff; text-decoration-color: #00d7ff\">None</span>, <span style=\"color: #00af00; text-decoration-color: #00af00\">32</span>)                  │             <span style=\"color: #00af00; text-decoration-color: #00af00\">224</span> │\n",
              "├──────────────────────────────────────┼─────────────────────────────┼─────────────────┤\n",
              "│ dense_16 (<span style=\"color: #0087ff; text-decoration-color: #0087ff\">Dense</span>)                     │ (<span style=\"color: #00d7ff; text-decoration-color: #00d7ff\">None</span>, <span style=\"color: #00af00; text-decoration-color: #00af00\">16</span>)                  │             <span style=\"color: #00af00; text-decoration-color: #00af00\">528</span> │\n",
              "├──────────────────────────────────────┼─────────────────────────────┼─────────────────┤\n",
              "│ dense_17 (<span style=\"color: #0087ff; text-decoration-color: #0087ff\">Dense</span>)                     │ (<span style=\"color: #00d7ff; text-decoration-color: #00d7ff\">None</span>, <span style=\"color: #00af00; text-decoration-color: #00af00\">1</span>)                   │              <span style=\"color: #00af00; text-decoration-color: #00af00\">17</span> │\n",
              "└──────────────────────────────────────┴─────────────────────────────┴─────────────────┘\n",
              "</pre>\n"
            ],
            "text/plain": [
              "┏━━━━━━━━━━━━━━━━━━━━━━━━━━━━━━━━━━━━━━┳━━━━━━━━━━━━━━━━━━━━━━━━━━━━━┳━━━━━━━━━━━━━━━━━┓\n",
              "┃\u001b[1m \u001b[0m\u001b[1mLayer (type)                        \u001b[0m\u001b[1m \u001b[0m┃\u001b[1m \u001b[0m\u001b[1mOutput Shape               \u001b[0m\u001b[1m \u001b[0m┃\u001b[1m \u001b[0m\u001b[1m        Param #\u001b[0m\u001b[1m \u001b[0m┃\n",
              "┡━━━━━━━━━━━━━━━━━━━━━━━━━━━━━━━━━━━━━━╇━━━━━━━━━━━━━━━━━━━━━━━━━━━━━╇━━━━━━━━━━━━━━━━━┩\n",
              "│ dense_15 (\u001b[38;5;33mDense\u001b[0m)                     │ (\u001b[38;5;45mNone\u001b[0m, \u001b[38;5;34m32\u001b[0m)                  │             \u001b[38;5;34m224\u001b[0m │\n",
              "├──────────────────────────────────────┼─────────────────────────────┼─────────────────┤\n",
              "│ dense_16 (\u001b[38;5;33mDense\u001b[0m)                     │ (\u001b[38;5;45mNone\u001b[0m, \u001b[38;5;34m16\u001b[0m)                  │             \u001b[38;5;34m528\u001b[0m │\n",
              "├──────────────────────────────────────┼─────────────────────────────┼─────────────────┤\n",
              "│ dense_17 (\u001b[38;5;33mDense\u001b[0m)                     │ (\u001b[38;5;45mNone\u001b[0m, \u001b[38;5;34m1\u001b[0m)                   │              \u001b[38;5;34m17\u001b[0m │\n",
              "└──────────────────────────────────────┴─────────────────────────────┴─────────────────┘\n"
            ]
          },
          "metadata": {},
          "output_type": "display_data"
        },
        {
          "data": {
            "text/html": [
              "<pre style=\"white-space:pre;overflow-x:auto;line-height:normal;font-family:Menlo,'DejaVu Sans Mono',consolas,'Courier New',monospace\"><span style=\"font-weight: bold\"> Total params: </span><span style=\"color: #00af00; text-decoration-color: #00af00\">769</span> (3.00 KB)\n",
              "</pre>\n"
            ],
            "text/plain": [
              "\u001b[1m Total params: \u001b[0m\u001b[38;5;34m769\u001b[0m (3.00 KB)\n"
            ]
          },
          "metadata": {},
          "output_type": "display_data"
        },
        {
          "data": {
            "text/html": [
              "<pre style=\"white-space:pre;overflow-x:auto;line-height:normal;font-family:Menlo,'DejaVu Sans Mono',consolas,'Courier New',monospace\"><span style=\"font-weight: bold\"> Trainable params: </span><span style=\"color: #00af00; text-decoration-color: #00af00\">769</span> (3.00 KB)\n",
              "</pre>\n"
            ],
            "text/plain": [
              "\u001b[1m Trainable params: \u001b[0m\u001b[38;5;34m769\u001b[0m (3.00 KB)\n"
            ]
          },
          "metadata": {},
          "output_type": "display_data"
        },
        {
          "data": {
            "text/html": [
              "<pre style=\"white-space:pre;overflow-x:auto;line-height:normal;font-family:Menlo,'DejaVu Sans Mono',consolas,'Courier New',monospace\"><span style=\"font-weight: bold\"> Non-trainable params: </span><span style=\"color: #00af00; text-decoration-color: #00af00\">0</span> (0.00 B)\n",
              "</pre>\n"
            ],
            "text/plain": [
              "\u001b[1m Non-trainable params: \u001b[0m\u001b[38;5;34m0\u001b[0m (0.00 B)\n"
            ]
          },
          "metadata": {},
          "output_type": "display_data"
        },
        {
          "name": "stdout",
          "output_type": "stream",
          "text": [
            "Epoch 1/100\n",
            "\u001b[1m200/200\u001b[0m \u001b[32m━━━━━━━━━━━━━━━━━━━━\u001b[0m\u001b[37m\u001b[0m \u001b[1m1s\u001b[0m 2ms/step - loss: 3048.2849 - mean_absolute_error: 51.7473 - val_loss: 685.2880 - val_mean_absolute_error: 23.2098\n",
            "Epoch 2/100\n",
            "\u001b[1m200/200\u001b[0m \u001b[32m━━━━━━━━━━━━━━━━━━━━\u001b[0m\u001b[37m\u001b[0m \u001b[1m1s\u001b[0m 2ms/step - loss: 261.6737 - mean_absolute_error: 12.4151 - val_loss: 19.0535 - val_mean_absolute_error: 3.4739\n",
            "Epoch 3/100\n",
            "\u001b[1m200/200\u001b[0m \u001b[32m━━━━━━━━━━━━━━━━━━━━\u001b[0m\u001b[37m\u001b[0m \u001b[1m0s\u001b[0m 2ms/step - loss: 19.3513 - mean_absolute_error: 3.4347 - val_loss: 16.0219 - val_mean_absolute_error: 3.1861\n",
            "Epoch 4/100\n",
            "\u001b[1m200/200\u001b[0m \u001b[32m━━━━━━━━━━━━━━━━━━━━\u001b[0m\u001b[37m\u001b[0m \u001b[1m1s\u001b[0m 2ms/step - loss: 16.2303 - mean_absolute_error: 3.1313 - val_loss: 13.5256 - val_mean_absolute_error: 2.9304\n",
            "Epoch 5/100\n",
            "\u001b[1m200/200\u001b[0m \u001b[32m━━━━━━━━━━━━━━━━━━━━\u001b[0m\u001b[37m\u001b[0m \u001b[1m1s\u001b[0m 2ms/step - loss: 13.7998 - mean_absolute_error: 2.8828 - val_loss: 11.3572 - val_mean_absolute_error: 2.6753\n",
            "Epoch 6/100\n",
            "\u001b[1m200/200\u001b[0m \u001b[32m━━━━━━━━━━━━━━━━━━━━\u001b[0m\u001b[37m\u001b[0m \u001b[1m1s\u001b[0m 2ms/step - loss: 11.5638 - mean_absolute_error: 2.6354 - val_loss: 9.5846 - val_mean_absolute_error: 2.4726\n",
            "Epoch 7/100\n",
            "\u001b[1m200/200\u001b[0m \u001b[32m━━━━━━━━━━━━━━━━━━━━\u001b[0m\u001b[37m\u001b[0m \u001b[1m1s\u001b[0m 3ms/step - loss: 9.6071 - mean_absolute_error: 2.4170 - val_loss: 8.2644 - val_mean_absolute_error: 2.2992\n",
            "Epoch 8/100\n",
            "\u001b[1m200/200\u001b[0m \u001b[32m━━━━━━━━━━━━━━━━━━━━\u001b[0m\u001b[37m\u001b[0m \u001b[1m1s\u001b[0m 3ms/step - loss: 8.3817 - mean_absolute_error: 2.2539 - val_loss: 7.2221 - val_mean_absolute_error: 2.1460\n",
            "Epoch 9/100\n",
            "\u001b[1m200/200\u001b[0m \u001b[32m━━━━━━━━━━━━━━━━━━━━\u001b[0m\u001b[37m\u001b[0m \u001b[1m1s\u001b[0m 3ms/step - loss: 7.1322 - mean_absolute_error: 2.0859 - val_loss: 6.3966 - val_mean_absolute_error: 2.0212\n",
            "Epoch 10/100\n",
            "\u001b[1m200/200\u001b[0m \u001b[32m━━━━━━━━━━━━━━━━━━━━\u001b[0m\u001b[37m\u001b[0m \u001b[1m1s\u001b[0m 2ms/step - loss: 6.6214 - mean_absolute_error: 2.0119 - val_loss: 5.8352 - val_mean_absolute_error: 1.9300\n",
            "Epoch 11/100\n",
            "\u001b[1m200/200\u001b[0m \u001b[32m━━━━━━━━━━━━━━━━━━━━\u001b[0m\u001b[37m\u001b[0m \u001b[1m1s\u001b[0m 2ms/step - loss: 6.2649 - mean_absolute_error: 1.9591 - val_loss: 5.3335 - val_mean_absolute_error: 1.8425\n",
            "Epoch 12/100\n",
            "\u001b[1m200/200\u001b[0m \u001b[32m━━━━━━━━━━━━━━━━━━━━\u001b[0m\u001b[37m\u001b[0m \u001b[1m1s\u001b[0m 2ms/step - loss: 5.7431 - mean_absolute_error: 1.8941 - val_loss: 5.0024 - val_mean_absolute_error: 1.7886\n",
            "Epoch 13/100\n",
            "\u001b[1m200/200\u001b[0m \u001b[32m━━━━━━━━━━━━━━━━━━━━\u001b[0m\u001b[37m\u001b[0m \u001b[1m1s\u001b[0m 2ms/step - loss: 5.1458 - mean_absolute_error: 1.7893 - val_loss: 4.7372 - val_mean_absolute_error: 1.7450\n",
            "Epoch 14/100\n",
            "\u001b[1m200/200\u001b[0m \u001b[32m━━━━━━━━━━━━━━━━━━━━\u001b[0m\u001b[37m\u001b[0m \u001b[1m0s\u001b[0m 2ms/step - loss: 5.0518 - mean_absolute_error: 1.7702 - val_loss: 4.5642 - val_mean_absolute_error: 1.7059\n",
            "Epoch 15/100\n",
            "\u001b[1m200/200\u001b[0m \u001b[32m━━━━━━━━━━━━━━━━━━━━\u001b[0m\u001b[37m\u001b[0m \u001b[1m0s\u001b[0m 2ms/step - loss: 4.7606 - mean_absolute_error: 1.7173 - val_loss: 4.4768 - val_mean_absolute_error: 1.6907\n",
            "Epoch 16/100\n",
            "\u001b[1m200/200\u001b[0m \u001b[32m━━━━━━━━━━━━━━━━━━━━\u001b[0m\u001b[37m\u001b[0m \u001b[1m1s\u001b[0m 2ms/step - loss: 4.4922 - mean_absolute_error: 1.6754 - val_loss: 4.3804 - val_mean_absolute_error: 1.6728\n",
            "Epoch 17/100\n",
            "\u001b[1m200/200\u001b[0m \u001b[32m━━━━━━━━━━━━━━━━━━━━\u001b[0m\u001b[37m\u001b[0m \u001b[1m1s\u001b[0m 2ms/step - loss: 4.6625 - mean_absolute_error: 1.6970 - val_loss: 4.3504 - val_mean_absolute_error: 1.6654\n",
            "Epoch 18/100\n",
            "\u001b[1m200/200\u001b[0m \u001b[32m━━━━━━━━━━━━━━━━━━━━\u001b[0m\u001b[37m\u001b[0m \u001b[1m1s\u001b[0m 2ms/step - loss: 4.4795 - mean_absolute_error: 1.6738 - val_loss: 4.2272 - val_mean_absolute_error: 1.6372\n",
            "Epoch 19/100\n",
            "\u001b[1m200/200\u001b[0m \u001b[32m━━━━━━━━━━━━━━━━━━━━\u001b[0m\u001b[37m\u001b[0m \u001b[1m1s\u001b[0m 2ms/step - loss: 4.5534 - mean_absolute_error: 1.6849 - val_loss: 4.3357 - val_mean_absolute_error: 1.6572\n",
            "Epoch 20/100\n",
            "\u001b[1m200/200\u001b[0m \u001b[32m━━━━━━━━━━━━━━━━━━━━\u001b[0m\u001b[37m\u001b[0m \u001b[1m0s\u001b[0m 2ms/step - loss: 4.4726 - mean_absolute_error: 1.6704 - val_loss: 4.2558 - val_mean_absolute_error: 1.6393\n",
            "Epoch 21/100\n",
            "\u001b[1m200/200\u001b[0m \u001b[32m━━━━━━━━━━━━━━━━━━━━\u001b[0m\u001b[37m\u001b[0m \u001b[1m1s\u001b[0m 2ms/step - loss: 4.3534 - mean_absolute_error: 1.6479 - val_loss: 4.1459 - val_mean_absolute_error: 1.6206\n",
            "Epoch 22/100\n",
            "\u001b[1m200/200\u001b[0m \u001b[32m━━━━━━━━━━━━━━━━━━━━\u001b[0m\u001b[37m\u001b[0m \u001b[1m0s\u001b[0m 2ms/step - loss: 4.3182 - mean_absolute_error: 1.6454 - val_loss: 4.1444 - val_mean_absolute_error: 1.6212\n",
            "Epoch 23/100\n",
            "\u001b[1m200/200\u001b[0m \u001b[32m━━━━━━━━━━━━━━━━━━━━\u001b[0m\u001b[37m\u001b[0m \u001b[1m1s\u001b[0m 2ms/step - loss: 4.2456 - mean_absolute_error: 1.6397 - val_loss: 4.1466 - val_mean_absolute_error: 1.6235\n",
            "Epoch 24/100\n",
            "\u001b[1m200/200\u001b[0m \u001b[32m━━━━━━━━━━━━━━━━━━━━\u001b[0m\u001b[37m\u001b[0m \u001b[1m1s\u001b[0m 2ms/step - loss: 4.3293 - mean_absolute_error: 1.6553 - val_loss: 4.1287 - val_mean_absolute_error: 1.6140\n",
            "Epoch 25/100\n",
            "\u001b[1m200/200\u001b[0m \u001b[32m━━━━━━━━━━━━━━━━━━━━\u001b[0m\u001b[37m\u001b[0m \u001b[1m1s\u001b[0m 2ms/step - loss: 4.3623 - mean_absolute_error: 1.6669 - val_loss: 4.1115 - val_mean_absolute_error: 1.6106\n",
            "Epoch 26/100\n",
            "\u001b[1m200/200\u001b[0m \u001b[32m━━━━━━━━━━━━━━━━━━━━\u001b[0m\u001b[37m\u001b[0m \u001b[1m0s\u001b[0m 2ms/step - loss: 4.2645 - mean_absolute_error: 1.6312 - val_loss: 4.1751 - val_mean_absolute_error: 1.6235\n",
            "Epoch 27/100\n",
            "\u001b[1m200/200\u001b[0m \u001b[32m━━━━━━━━━━━━━━━━━━━━\u001b[0m\u001b[37m\u001b[0m \u001b[1m0s\u001b[0m 2ms/step - loss: 4.2873 - mean_absolute_error: 1.6364 - val_loss: 4.1563 - val_mean_absolute_error: 1.6170\n",
            "Epoch 28/100\n",
            "\u001b[1m200/200\u001b[0m \u001b[32m━━━━━━━━━━━━━━━━━━━━\u001b[0m\u001b[37m\u001b[0m \u001b[1m1s\u001b[0m 3ms/step - loss: 4.1936 - mean_absolute_error: 1.6158 - val_loss: 4.2735 - val_mean_absolute_error: 1.6383\n",
            "Epoch 29/100\n",
            "\u001b[1m200/200\u001b[0m \u001b[32m━━━━━━━━━━━━━━━━━━━━\u001b[0m\u001b[37m\u001b[0m \u001b[1m1s\u001b[0m 3ms/step - loss: 4.3241 - mean_absolute_error: 1.6583 - val_loss: 4.2377 - val_mean_absolute_error: 1.6373\n",
            "Epoch 30/100\n",
            "\u001b[1m200/200\u001b[0m \u001b[32m━━━━━━━━━━━━━━━━━━━━\u001b[0m\u001b[37m\u001b[0m \u001b[1m1s\u001b[0m 4ms/step - loss: 4.5034 - mean_absolute_error: 1.6786 - val_loss: 4.1167 - val_mean_absolute_error: 1.6131\n",
            "Epoch 31/100\n",
            "\u001b[1m200/200\u001b[0m \u001b[32m━━━━━━━━━━━━━━━━━━━━\u001b[0m\u001b[37m\u001b[0m \u001b[1m1s\u001b[0m 3ms/step - loss: 4.2607 - mean_absolute_error: 1.6423 - val_loss: 4.1312 - val_mean_absolute_error: 1.6219\n",
            "Epoch 32/100\n",
            "\u001b[1m200/200\u001b[0m \u001b[32m━━━━━━━━━━━━━━━━━━━━\u001b[0m\u001b[37m\u001b[0m \u001b[1m1s\u001b[0m 2ms/step - loss: 4.2902 - mean_absolute_error: 1.6356 - val_loss: 4.1168 - val_mean_absolute_error: 1.6155\n",
            "Epoch 33/100\n",
            "\u001b[1m200/200\u001b[0m \u001b[32m━━━━━━━━━━━━━━━━━━━━\u001b[0m\u001b[37m\u001b[0m \u001b[1m1s\u001b[0m 2ms/step - loss: 4.3282 - mean_absolute_error: 1.6581 - val_loss: 4.1023 - val_mean_absolute_error: 1.6111\n",
            "Epoch 34/100\n",
            "\u001b[1m200/200\u001b[0m \u001b[32m━━━━━━━━━━━━━━━━━━━━\u001b[0m\u001b[37m\u001b[0m \u001b[1m1s\u001b[0m 2ms/step - loss: 4.2810 - mean_absolute_error: 1.6286 - val_loss: 4.1614 - val_mean_absolute_error: 1.6172\n",
            "Epoch 35/100\n",
            "\u001b[1m200/200\u001b[0m \u001b[32m━━━━━━━━━━━━━━━━━━━━\u001b[0m\u001b[37m\u001b[0m \u001b[1m0s\u001b[0m 2ms/step - loss: 4.3737 - mean_absolute_error: 1.6544 - val_loss: 4.2716 - val_mean_absolute_error: 1.6484\n",
            "Epoch 36/100\n",
            "\u001b[1m200/200\u001b[0m \u001b[32m━━━━━━━━━━━━━━━━━━━━\u001b[0m\u001b[37m\u001b[0m \u001b[1m0s\u001b[0m 2ms/step - loss: 4.3575 - mean_absolute_error: 1.6561 - val_loss: 4.1003 - val_mean_absolute_error: 1.6101\n",
            "Epoch 37/100\n",
            "\u001b[1m200/200\u001b[0m \u001b[32m━━━━━━━━━━━━━━━━━━━━\u001b[0m\u001b[37m\u001b[0m \u001b[1m1s\u001b[0m 2ms/step - loss: 4.3006 - mean_absolute_error: 1.6364 - val_loss: 4.0887 - val_mean_absolute_error: 1.6058\n",
            "Epoch 38/100\n",
            "\u001b[1m200/200\u001b[0m \u001b[32m━━━━━━━━━━━━━━━━━━━━\u001b[0m\u001b[37m\u001b[0m \u001b[1m1s\u001b[0m 2ms/step - loss: 4.2791 - mean_absolute_error: 1.6413 - val_loss: 4.1935 - val_mean_absolute_error: 1.6256\n",
            "Epoch 39/100\n",
            "\u001b[1m200/200\u001b[0m \u001b[32m━━━━━━━━━━━━━━━━━━━━\u001b[0m\u001b[37m\u001b[0m \u001b[1m1s\u001b[0m 2ms/step - loss: 4.2698 - mean_absolute_error: 1.6377 - val_loss: 4.2830 - val_mean_absolute_error: 1.6416\n",
            "Epoch 40/100\n",
            "\u001b[1m200/200\u001b[0m \u001b[32m━━━━━━━━━━━━━━━━━━━━\u001b[0m\u001b[37m\u001b[0m \u001b[1m0s\u001b[0m 2ms/step - loss: 4.3914 - mean_absolute_error: 1.6567 - val_loss: 4.0977 - val_mean_absolute_error: 1.6082\n",
            "Epoch 41/100\n",
            "\u001b[1m200/200\u001b[0m \u001b[32m━━━━━━━━━━━━━━━━━━━━\u001b[0m\u001b[37m\u001b[0m \u001b[1m1s\u001b[0m 2ms/step - loss: 4.3922 - mean_absolute_error: 1.6681 - val_loss: 4.0824 - val_mean_absolute_error: 1.6031\n",
            "Epoch 42/100\n",
            "\u001b[1m200/200\u001b[0m \u001b[32m━━━━━━━━━━━━━━━━━━━━\u001b[0m\u001b[37m\u001b[0m \u001b[1m0s\u001b[0m 2ms/step - loss: 4.2945 - mean_absolute_error: 1.6368 - val_loss: 4.1043 - val_mean_absolute_error: 1.6069\n",
            "Epoch 43/100\n",
            "\u001b[1m200/200\u001b[0m \u001b[32m━━━━━━━━━━━━━━━━━━━━\u001b[0m\u001b[37m\u001b[0m \u001b[1m1s\u001b[0m 2ms/step - loss: 4.2800 - mean_absolute_error: 1.6439 - val_loss: 4.1655 - val_mean_absolute_error: 1.6163\n",
            "Epoch 44/100\n",
            "\u001b[1m200/200\u001b[0m \u001b[32m━━━━━━━━━━━━━━━━━━━━\u001b[0m\u001b[37m\u001b[0m \u001b[1m0s\u001b[0m 2ms/step - loss: 4.3725 - mean_absolute_error: 1.6599 - val_loss: 4.0898 - val_mean_absolute_error: 1.6055\n",
            "Epoch 45/100\n",
            "\u001b[1m200/200\u001b[0m \u001b[32m━━━━━━━━━━━━━━━━━━━━\u001b[0m\u001b[37m\u001b[0m \u001b[1m1s\u001b[0m 2ms/step - loss: 4.4968 - mean_absolute_error: 1.6814 - val_loss: 4.1020 - val_mean_absolute_error: 1.6069\n",
            "Epoch 46/100\n",
            "\u001b[1m200/200\u001b[0m \u001b[32m━━━━━━━━━━━━━━━━━━━━\u001b[0m\u001b[37m\u001b[0m \u001b[1m1s\u001b[0m 2ms/step - loss: 4.2995 - mean_absolute_error: 1.6542 - val_loss: 4.1007 - val_mean_absolute_error: 1.6036\n",
            "Epoch 47/100\n",
            "\u001b[1m200/200\u001b[0m \u001b[32m━━━━━━━━━━━━━━━━━━━━\u001b[0m\u001b[37m\u001b[0m \u001b[1m1s\u001b[0m 2ms/step - loss: 4.2837 - mean_absolute_error: 1.6412 - val_loss: 4.3618 - val_mean_absolute_error: 1.6582\n",
            "Epoch 48/100\n",
            "\u001b[1m200/200\u001b[0m \u001b[32m━━━━━━━━━━━━━━━━━━━━\u001b[0m\u001b[37m\u001b[0m \u001b[1m1s\u001b[0m 2ms/step - loss: 4.3724 - mean_absolute_error: 1.6557 - val_loss: 4.3910 - val_mean_absolute_error: 1.6616\n",
            "Epoch 49/100\n",
            "\u001b[1m200/200\u001b[0m \u001b[32m━━━━━━━━━━━━━━━━━━━━\u001b[0m\u001b[37m\u001b[0m \u001b[1m1s\u001b[0m 3ms/step - loss: 4.3116 - mean_absolute_error: 1.6447 - val_loss: 4.1310 - val_mean_absolute_error: 1.6099\n",
            "Epoch 50/100\n",
            "\u001b[1m200/200\u001b[0m \u001b[32m━━━━━━━━━━━━━━━━━━━━\u001b[0m\u001b[37m\u001b[0m \u001b[1m1s\u001b[0m 3ms/step - loss: 4.2791 - mean_absolute_error: 1.6297 - val_loss: 4.2066 - val_mean_absolute_error: 1.6290\n",
            "Epoch 51/100\n",
            "\u001b[1m200/200\u001b[0m \u001b[32m━━━━━━━━━━━━━━━━━━━━\u001b[0m\u001b[37m\u001b[0m \u001b[1m1s\u001b[0m 3ms/step - loss: 4.1854 - mean_absolute_error: 1.6114 - val_loss: 4.1080 - val_mean_absolute_error: 1.6114\n",
            "Epoch 52/100\n",
            "\u001b[1m200/200\u001b[0m \u001b[32m━━━━━━━━━━━━━━━━━━━━\u001b[0m\u001b[37m\u001b[0m \u001b[1m1s\u001b[0m 2ms/step - loss: 4.2968 - mean_absolute_error: 1.6478 - val_loss: 4.2061 - val_mean_absolute_error: 1.6249\n",
            "Epoch 53/100\n",
            "\u001b[1m200/200\u001b[0m \u001b[32m━━━━━━━━━━━━━━━━━━━━\u001b[0m\u001b[37m\u001b[0m \u001b[1m1s\u001b[0m 2ms/step - loss: 4.2413 - mean_absolute_error: 1.6289 - val_loss: 4.1119 - val_mean_absolute_error: 1.6110\n",
            "Epoch 54/100\n",
            "\u001b[1m200/200\u001b[0m \u001b[32m━━━━━━━━━━━━━━━━━━━━\u001b[0m\u001b[37m\u001b[0m \u001b[1m0s\u001b[0m 2ms/step - loss: 4.3855 - mean_absolute_error: 1.6700 - val_loss: 4.0985 - val_mean_absolute_error: 1.6033\n",
            "Epoch 55/100\n",
            "\u001b[1m200/200\u001b[0m \u001b[32m━━━━━━━━━━━━━━━━━━━━\u001b[0m\u001b[37m\u001b[0m \u001b[1m1s\u001b[0m 2ms/step - loss: 4.3087 - mean_absolute_error: 1.6468 - val_loss: 4.0692 - val_mean_absolute_error: 1.6009\n",
            "Epoch 56/100\n",
            "\u001b[1m200/200\u001b[0m \u001b[32m━━━━━━━━━━━━━━━━━━━━\u001b[0m\u001b[37m\u001b[0m \u001b[1m0s\u001b[0m 2ms/step - loss: 4.3306 - mean_absolute_error: 1.6475 - val_loss: 4.0603 - val_mean_absolute_error: 1.5988\n",
            "Epoch 57/100\n",
            "\u001b[1m200/200\u001b[0m \u001b[32m━━━━━━━━━━━━━━━━━━━━\u001b[0m\u001b[37m\u001b[0m \u001b[1m1s\u001b[0m 2ms/step - loss: 4.2339 - mean_absolute_error: 1.6220 - val_loss: 4.2013 - val_mean_absolute_error: 1.6267\n",
            "Epoch 58/100\n",
            "\u001b[1m200/200\u001b[0m \u001b[32m━━━━━━━━━━━━━━━━━━━━\u001b[0m\u001b[37m\u001b[0m \u001b[1m0s\u001b[0m 2ms/step - loss: 4.3321 - mean_absolute_error: 1.6585 - val_loss: 4.2826 - val_mean_absolute_error: 1.6376\n",
            "Epoch 59/100\n",
            "\u001b[1m200/200\u001b[0m \u001b[32m━━━━━━━━━━━━━━━━━━━━\u001b[0m\u001b[37m\u001b[0m \u001b[1m1s\u001b[0m 2ms/step - loss: 4.3829 - mean_absolute_error: 1.6468 - val_loss: 4.1808 - val_mean_absolute_error: 1.6179\n",
            "Epoch 60/100\n",
            "\u001b[1m200/200\u001b[0m \u001b[32m━━━━━━━━━━━━━━━━━━━━\u001b[0m\u001b[37m\u001b[0m \u001b[1m0s\u001b[0m 2ms/step - loss: 4.2223 - mean_absolute_error: 1.6299 - val_loss: 4.0931 - val_mean_absolute_error: 1.6018\n",
            "Epoch 61/100\n",
            "\u001b[1m200/200\u001b[0m \u001b[32m━━━━━━━━━━━━━━━━━━━━\u001b[0m\u001b[37m\u001b[0m \u001b[1m1s\u001b[0m 2ms/step - loss: 4.3391 - mean_absolute_error: 1.6576 - val_loss: 4.1115 - val_mean_absolute_error: 1.6043\n",
            "Epoch 62/100\n",
            "\u001b[1m200/200\u001b[0m \u001b[32m━━━━━━━━━━━━━━━━━━━━\u001b[0m\u001b[37m\u001b[0m \u001b[1m1s\u001b[0m 2ms/step - loss: 4.3229 - mean_absolute_error: 1.6514 - val_loss: 4.1165 - val_mean_absolute_error: 1.6091\n",
            "Epoch 63/100\n",
            "\u001b[1m200/200\u001b[0m \u001b[32m━━━━━━━━━━━━━━━━━━━━\u001b[0m\u001b[37m\u001b[0m \u001b[1m1s\u001b[0m 2ms/step - loss: 4.2991 - mean_absolute_error: 1.6435 - val_loss: 4.1132 - val_mean_absolute_error: 1.6075\n",
            "Epoch 64/100\n",
            "\u001b[1m200/200\u001b[0m \u001b[32m━━━━━━━━━━━━━━━━━━━━\u001b[0m\u001b[37m\u001b[0m \u001b[1m1s\u001b[0m 2ms/step - loss: 4.3920 - mean_absolute_error: 1.6727 - val_loss: 4.1874 - val_mean_absolute_error: 1.6221\n",
            "Epoch 65/100\n",
            "\u001b[1m200/200\u001b[0m \u001b[32m━━━━━━━━━━━━━━━━━━━━\u001b[0m\u001b[37m\u001b[0m \u001b[1m1s\u001b[0m 2ms/step - loss: 4.1938 - mean_absolute_error: 1.6211 - val_loss: 4.1137 - val_mean_absolute_error: 1.6088\n",
            "Epoch 66/100\n",
            "\u001b[1m200/200\u001b[0m \u001b[32m━━━━━━━━━━━━━━━━━━━━\u001b[0m\u001b[37m\u001b[0m \u001b[1m1s\u001b[0m 2ms/step - loss: 4.2887 - mean_absolute_error: 1.6480 - val_loss: 4.1393 - val_mean_absolute_error: 1.6119\n",
            "Epoch 67/100\n",
            "\u001b[1m200/200\u001b[0m \u001b[32m━━━━━━━━━━━━━━━━━━━━\u001b[0m\u001b[37m\u001b[0m \u001b[1m1s\u001b[0m 2ms/step - loss: 4.2045 - mean_absolute_error: 1.6359 - val_loss: 4.2192 - val_mean_absolute_error: 1.6257\n",
            "Epoch 68/100\n",
            "\u001b[1m200/200\u001b[0m \u001b[32m━━━━━━━━━━━━━━━━━━━━\u001b[0m\u001b[37m\u001b[0m \u001b[1m1s\u001b[0m 2ms/step - loss: 4.2785 - mean_absolute_error: 1.6399 - val_loss: 4.1026 - val_mean_absolute_error: 1.6094\n",
            "Epoch 69/100\n",
            "\u001b[1m200/200\u001b[0m \u001b[32m━━━━━━━━━━━━━━━━━━━━\u001b[0m\u001b[37m\u001b[0m \u001b[1m1s\u001b[0m 4ms/step - loss: 4.1737 - mean_absolute_error: 1.6165 - val_loss: 4.4183 - val_mean_absolute_error: 1.6702\n",
            "Epoch 70/100\n",
            "\u001b[1m200/200\u001b[0m \u001b[32m━━━━━━━━━━━━━━━━━━━━\u001b[0m\u001b[37m\u001b[0m \u001b[1m1s\u001b[0m 3ms/step - loss: 4.2433 - mean_absolute_error: 1.6374 - val_loss: 4.1936 - val_mean_absolute_error: 1.6223\n",
            "Epoch 71/100\n",
            "\u001b[1m200/200\u001b[0m \u001b[32m━━━━━━━━━━━━━━━━━━━━\u001b[0m\u001b[37m\u001b[0m \u001b[1m1s\u001b[0m 2ms/step - loss: 4.2835 - mean_absolute_error: 1.6456 - val_loss: 4.0916 - val_mean_absolute_error: 1.6063\n",
            "Epoch 72/100\n",
            "\u001b[1m200/200\u001b[0m \u001b[32m━━━━━━━━━━━━━━━━━━━━\u001b[0m\u001b[37m\u001b[0m \u001b[1m0s\u001b[0m 2ms/step - loss: 4.0705 - mean_absolute_error: 1.5980 - val_loss: 4.1025 - val_mean_absolute_error: 1.6099\n",
            "Epoch 73/100\n",
            "\u001b[1m200/200\u001b[0m \u001b[32m━━━━━━━━━━━━━━━━━━━━\u001b[0m\u001b[37m\u001b[0m \u001b[1m1s\u001b[0m 2ms/step - loss: 4.2768 - mean_absolute_error: 1.6473 - val_loss: 4.0784 - val_mean_absolute_error: 1.6065\n",
            "Epoch 74/100\n",
            "\u001b[1m200/200\u001b[0m \u001b[32m━━━━━━━━━━━━━━━━━━━━\u001b[0m\u001b[37m\u001b[0m \u001b[1m1s\u001b[0m 2ms/step - loss: 4.3053 - mean_absolute_error: 1.6332 - val_loss: 4.1114 - val_mean_absolute_error: 1.6069\n",
            "Epoch 75/100\n",
            "\u001b[1m200/200\u001b[0m \u001b[32m━━━━━━━━━━━━━━━━━━━━\u001b[0m\u001b[37m\u001b[0m \u001b[1m0s\u001b[0m 2ms/step - loss: 4.3177 - mean_absolute_error: 1.6586 - val_loss: 4.1560 - val_mean_absolute_error: 1.6141\n",
            "Epoch 76/100\n",
            "\u001b[1m200/200\u001b[0m \u001b[32m━━━━━━━━━━━━━━━━━━━━\u001b[0m\u001b[37m\u001b[0m \u001b[1m1s\u001b[0m 2ms/step - loss: 4.1451 - mean_absolute_error: 1.6206 - val_loss: 4.1810 - val_mean_absolute_error: 1.6173\n",
            "Epoch 77/100\n",
            "\u001b[1m200/200\u001b[0m \u001b[32m━━━━━━━━━━━━━━━━━━━━\u001b[0m\u001b[37m\u001b[0m \u001b[1m1s\u001b[0m 2ms/step - loss: 4.2548 - mean_absolute_error: 1.6354 - val_loss: 4.0608 - val_mean_absolute_error: 1.5996\n",
            "Epoch 78/100\n",
            "\u001b[1m200/200\u001b[0m \u001b[32m━━━━━━━━━━━━━━━━━━━━\u001b[0m\u001b[37m\u001b[0m \u001b[1m0s\u001b[0m 2ms/step - loss: 4.3393 - mean_absolute_error: 1.6491 - val_loss: 4.4156 - val_mean_absolute_error: 1.6730\n",
            "Epoch 79/100\n",
            "\u001b[1m200/200\u001b[0m \u001b[32m━━━━━━━━━━━━━━━━━━━━\u001b[0m\u001b[37m\u001b[0m \u001b[1m1s\u001b[0m 2ms/step - loss: 4.2701 - mean_absolute_error: 1.6361 - val_loss: 4.1108 - val_mean_absolute_error: 1.6032\n",
            "Epoch 80/100\n",
            "\u001b[1m200/200\u001b[0m \u001b[32m━━━━━━━━━━━━━━━━━━━━\u001b[0m\u001b[37m\u001b[0m \u001b[1m1s\u001b[0m 2ms/step - loss: 4.3023 - mean_absolute_error: 1.6530 - val_loss: 4.1016 - val_mean_absolute_error: 1.6088\n",
            "Epoch 81/100\n",
            "\u001b[1m200/200\u001b[0m \u001b[32m━━━━━━━━━━━━━━━━━━━━\u001b[0m\u001b[37m\u001b[0m \u001b[1m0s\u001b[0m 2ms/step - loss: 4.3150 - mean_absolute_error: 1.6536 - val_loss: 4.1801 - val_mean_absolute_error: 1.6197\n",
            "Epoch 82/100\n",
            "\u001b[1m200/200\u001b[0m \u001b[32m━━━━━━━━━━━━━━━━━━━━\u001b[0m\u001b[37m\u001b[0m \u001b[1m1s\u001b[0m 2ms/step - loss: 4.3330 - mean_absolute_error: 1.6537 - val_loss: 4.2301 - val_mean_absolute_error: 1.6282\n",
            "Epoch 83/100\n",
            "\u001b[1m200/200\u001b[0m \u001b[32m━━━━━━━━━━━━━━━━━━━━\u001b[0m\u001b[37m\u001b[0m \u001b[1m1s\u001b[0m 2ms/step - loss: 4.1756 - mean_absolute_error: 1.6146 - val_loss: 4.1794 - val_mean_absolute_error: 1.6191\n",
            "Epoch 84/100\n",
            "\u001b[1m200/200\u001b[0m \u001b[32m━━━━━━━━━━━━━━━━━━━━\u001b[0m\u001b[37m\u001b[0m \u001b[1m0s\u001b[0m 2ms/step - loss: 4.0989 - mean_absolute_error: 1.6064 - val_loss: 4.1810 - val_mean_absolute_error: 1.6229\n",
            "Epoch 85/100\n",
            "\u001b[1m200/200\u001b[0m \u001b[32m━━━━━━━━━━━━━━━━━━━━\u001b[0m\u001b[37m\u001b[0m \u001b[1m1s\u001b[0m 2ms/step - loss: 4.1700 - mean_absolute_error: 1.6203 - val_loss: 4.1384 - val_mean_absolute_error: 1.6096\n",
            "Epoch 86/100\n",
            "\u001b[1m200/200\u001b[0m \u001b[32m━━━━━━━━━━━━━━━━━━━━\u001b[0m\u001b[37m\u001b[0m \u001b[1m1s\u001b[0m 2ms/step - loss: 4.2412 - mean_absolute_error: 1.6352 - val_loss: 4.1386 - val_mean_absolute_error: 1.6073\n",
            "Epoch 87/100\n",
            "\u001b[1m200/200\u001b[0m \u001b[32m━━━━━━━━━━━━━━━━━━━━\u001b[0m\u001b[37m\u001b[0m \u001b[1m1s\u001b[0m 2ms/step - loss: 4.2341 - mean_absolute_error: 1.6308 - val_loss: 4.1186 - val_mean_absolute_error: 1.6061\n",
            "Epoch 88/100\n",
            "\u001b[1m200/200\u001b[0m \u001b[32m━━━━━━━━━━━━━━━━━━━━\u001b[0m\u001b[37m\u001b[0m \u001b[1m1s\u001b[0m 2ms/step - loss: 4.3230 - mean_absolute_error: 1.6491 - val_loss: 4.1033 - val_mean_absolute_error: 1.6058\n",
            "Epoch 89/100\n",
            "\u001b[1m200/200\u001b[0m \u001b[32m━━━━━━━━━━━━━━━━━━━━\u001b[0m\u001b[37m\u001b[0m \u001b[1m1s\u001b[0m 3ms/step - loss: 4.2517 - mean_absolute_error: 1.6363 - val_loss: 4.1265 - val_mean_absolute_error: 1.6101\n",
            "Epoch 90/100\n",
            "\u001b[1m200/200\u001b[0m \u001b[32m━━━━━━━━━━━━━━━━━━━━\u001b[0m\u001b[37m\u001b[0m \u001b[1m1s\u001b[0m 3ms/step - loss: 4.2173 - mean_absolute_error: 1.6252 - val_loss: 4.3401 - val_mean_absolute_error: 1.6537\n",
            "Epoch 91/100\n",
            "\u001b[1m200/200\u001b[0m \u001b[32m━━━━━━━━━━━━━━━━━━━━\u001b[0m\u001b[37m\u001b[0m \u001b[1m1s\u001b[0m 2ms/step - loss: 4.2579 - mean_absolute_error: 1.6340 - val_loss: 4.1374 - val_mean_absolute_error: 1.6083\n",
            "Epoch 92/100\n",
            "\u001b[1m200/200\u001b[0m \u001b[32m━━━━━━━━━━━━━━━━━━━━\u001b[0m\u001b[37m\u001b[0m \u001b[1m1s\u001b[0m 2ms/step - loss: 4.2164 - mean_absolute_error: 1.6312 - val_loss: 4.1180 - val_mean_absolute_error: 1.6099\n",
            "Epoch 93/100\n",
            "\u001b[1m200/200\u001b[0m \u001b[32m━━━━━━━━━━━━━━━━━━━━\u001b[0m\u001b[37m\u001b[0m \u001b[1m0s\u001b[0m 2ms/step - loss: 4.1077 - mean_absolute_error: 1.5985 - val_loss: 4.1094 - val_mean_absolute_error: 1.6116\n",
            "Epoch 94/100\n",
            "\u001b[1m200/200\u001b[0m \u001b[32m━━━━━━━━━━━━━━━━━━━━\u001b[0m\u001b[37m\u001b[0m \u001b[1m1s\u001b[0m 2ms/step - loss: 4.3965 - mean_absolute_error: 1.6625 - val_loss: 4.1012 - val_mean_absolute_error: 1.6038\n",
            "Epoch 95/100\n",
            "\u001b[1m200/200\u001b[0m \u001b[32m━━━━━━━━━━━━━━━━━━━━\u001b[0m\u001b[37m\u001b[0m \u001b[1m1s\u001b[0m 2ms/step - loss: 4.3460 - mean_absolute_error: 1.6644 - val_loss: 4.0830 - val_mean_absolute_error: 1.6062\n",
            "Epoch 96/100\n",
            "\u001b[1m200/200\u001b[0m \u001b[32m━━━━━━━━━━━━━━━━━━━━\u001b[0m\u001b[37m\u001b[0m \u001b[1m1s\u001b[0m 2ms/step - loss: 4.3700 - mean_absolute_error: 1.6571 - val_loss: 4.2249 - val_mean_absolute_error: 1.6253\n",
            "Epoch 97/100\n",
            "\u001b[1m200/200\u001b[0m \u001b[32m━━━━━━━━━━━━━━━━━━━━\u001b[0m\u001b[37m\u001b[0m \u001b[1m1s\u001b[0m 2ms/step - loss: 4.2783 - mean_absolute_error: 1.6533 - val_loss: 4.3237 - val_mean_absolute_error: 1.6489\n",
            "Epoch 98/100\n",
            "\u001b[1m200/200\u001b[0m \u001b[32m━━━━━━━━━━━━━━━━━━━━\u001b[0m\u001b[37m\u001b[0m \u001b[1m1s\u001b[0m 2ms/step - loss: 4.1984 - mean_absolute_error: 1.6330 - val_loss: 4.2070 - val_mean_absolute_error: 1.6271\n",
            "Epoch 99/100\n",
            "\u001b[1m200/200\u001b[0m \u001b[32m━━━━━━━━━━━━━━━━━━━━\u001b[0m\u001b[37m\u001b[0m \u001b[1m1s\u001b[0m 2ms/step - loss: 4.3145 - mean_absolute_error: 1.6397 - val_loss: 4.2078 - val_mean_absolute_error: 1.6244\n",
            "Epoch 100/100\n",
            "\u001b[1m200/200\u001b[0m \u001b[32m━━━━━━━━━━━━━━━━━━━━\u001b[0m\u001b[37m\u001b[0m \u001b[1m1s\u001b[0m 2ms/step - loss: 4.1789 - mean_absolute_error: 1.6192 - val_loss: 4.1737 - val_mean_absolute_error: 1.6179\n"
          ]
        },
        {
          "data": {
            "text/plain": [
              "<keras.src.callbacks.history.History at 0x7c792266a290>"
            ]
          },
          "execution_count": 26,
          "metadata": {},
          "output_type": "execute_result"
        }
      ],
      "source": [
        "model = Sequential([\n",
        "    Input(shape=(X_train.shape[1],)),\n",
        "    Dense(32, activation='relu'),\n",
        "    Dense(16, activation='relu'),\n",
        "    Dense(1)\n",
        "])\n",
        "\n",
        "model.summary()\n",
        "\n",
        "model.compile(optimizer='adam', loss='mean_squared_error', metrics=['mean_absolute_error'])\n",
        "\n",
        "model.fit(X_train, y_train, epochs=100, batch_size=32, validation_split=0.2)"
      ]
    },
    {
      "cell_type": "markdown",
      "metadata": {
        "id": "zUs_vHCQE39-"
      },
      "source": [
        "Dado que los valores de pérdida y MAE en el conjunto de entrenamiento y validación son bastante similares, parece que el modelo no está sobreajustando, lo cual es bueno. Esto sugiere que el modelo está aprendiendo bien y generalizando adecuadamente a datos no vistos."
      ]
    }
  ],
  "metadata": {
    "colab": {
      "authorship_tag": "ABX9TyOrof1GnpKXBv10LszrFxZm",
      "include_colab_link": true,
      "provenance": []
    },
    "kernelspec": {
      "display_name": "Python 3",
      "name": "python3"
    },
    "language_info": {
      "name": "python"
    }
  },
  "nbformat": 4,
  "nbformat_minor": 0
}
